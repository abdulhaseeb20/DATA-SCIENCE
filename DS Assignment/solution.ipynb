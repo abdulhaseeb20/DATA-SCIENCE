{
 "cells": [
  {
   "cell_type": "code",
   "execution_count": 1,
   "id": "368caa4b",
   "metadata": {},
   "outputs": [
    {
     "name": "stdout",
     "output_type": "stream",
     "text": [
      "[[  4   8  12  16  20  24  28  32  36  40]\n",
      " [ 44  48  52  56  60  64  68  72  76  80]\n",
      " [ 84  88  92  96 100 104 108 112 116 120]\n",
      " [124 128 132 136 140 144 148 152 156 160]\n",
      " [164 168 172 176 180 184 188 192 196 200]\n",
      " [204 208 212 216 220 224 228 232 236 240]\n",
      " [244 248 252 256 260 264 268 272 276 280]\n",
      " [284 288 292 296 300 304 308 312 316 320]\n",
      " [324 328 332 336 340 344 348 352 356 360]\n",
      " [364 368 372 376 380 384 388 392 396 400]]\n"
     ]
    }
   ],
   "source": [
    "\n",
    "#TASK 01\n",
    "import numpy as np\n",
    "\n",
    "arr1 = np.full((10, 10), 4)\n",
    "values = np.arange(1, 101)\n",
    "arr2 = values.reshape((10, 10))\n",
    "result = arr1 * arr2\n",
    "print(result)\n",
    "\n"
   ]
  },
  {
   "cell_type": "code",
   "execution_count": null,
   "id": "2f1f20cd",
   "metadata": {},
   "outputs": [],
   "source": []
  },
  {
   "cell_type": "code",
   "execution_count": 2,
   "id": "9ee6585c",
   "metadata": {},
   "outputs": [
    {
     "name": "stdout",
     "output_type": "stream",
     "text": [
      "[10, 8, 6, 4, 2, 0, 0, 1, 2, 3, 4, 5, 6, 7, 8, 9, 10]\n",
      "[10  8  6  4  2  0  0  1  2  3  4  5  6  7  8  9 10]\n"
     ]
    }
   ],
   "source": [
    "#TASK 02\n",
    "import numpy as np\n",
    "\n",
    "lst1 = list(range(10,-1,-2))\n",
    "lst2 = list(range(0,11))\n",
    "combine = lst1 + lst2\n",
    "print(combine)\n",
    "arr = np.array(combine)\n",
    "print(arr)\n",
    "\n"
   ]
  },
  {
   "cell_type": "code",
   "execution_count": 3,
   "id": "cacbba8b",
   "metadata": {},
   "outputs": [
    {
     "name": "stdout",
     "output_type": "stream",
     "text": [
      "[10  8  6  4  2  0  0  1  2  3  4  5  6  7  8  9 10]\n",
      "Original array:  [10  8  6  4  2  0  0  1  2  3  4  5  6  7  8  9 10]\n",
      "Flattened array: [10 10  6  4  2  0  0  1  2  3  4  5  6  7  8  9 10]\n",
      "Original array:  [10  8  6  4  2  0  0  1  2  3  4  5  6  7  8  9 10]\n",
      "Ravel array:  [10  8  6  4  2  0  0  1  2  3  4  5  6  7  8  9 10]\n"
     ]
    }
   ],
   "source": [
    "#TASK 03\n",
    "import numpy as np\n",
    "\n",
    "#flatten method\n",
    "print(arr)\n",
    "arr2 = arr.flatten()\n",
    "arr2[1] = 10\n",
    "print(\"Original array: \", arr)\n",
    "print(\"Flattened array:\", arr2)\n",
    "\n",
    "#ravel method\n",
    "arr3 = arr.ravel()\n",
    "print(\"Original array: \",arr)\n",
    "print(\"Ravel array: \", arr3)\n",
    "\n",
    "\n"
   ]
  },
  {
   "cell_type": "code",
   "execution_count": null,
   "id": "48bbb872",
   "metadata": {},
   "outputs": [],
   "source": []
  },
  {
   "cell_type": "code",
   "execution_count": null,
   "id": "30b14361",
   "metadata": {},
   "outputs": [],
   "source": []
  },
  {
   "cell_type": "code",
   "execution_count": 4,
   "id": "82327f6b",
   "metadata": {},
   "outputs": [
    {
     "name": "stdout",
     "output_type": "stream",
     "text": [
      "Integer array:  [1 2 3 4 5 6]\n",
      "FLoat array:  [1. 2. 3. 4. 5. 6.]\n",
      "String array:  ['1.0' '2.0' '3.0' '4.0' '5.0' '6.0']\n"
     ]
    }
   ],
   "source": [
    "#TASK 04\n",
    "import numpy as np\n",
    "\n",
    "arr = np.linspace( 1.1, 6.6, num=6)\n",
    "inttype = arr.astype('int32')\n",
    "print(\"Integer array: \",inttype)\n",
    "ftype = inttype.astype('float64')\n",
    "print(\"FLoat array: \",ftype)\n",
    "stype = ftype.astype(str)\n",
    "print(\"String array: \",stype)"
   ]
  },
  {
   "cell_type": "code",
   "execution_count": 5,
   "id": "a87dec76",
   "metadata": {},
   "outputs": [
    {
     "name": "stdout",
     "output_type": "stream",
     "text": [
      " 10  22   3\n",
      " 45 678   9\n",
      "  1  23 456\n"
     ]
    }
   ],
   "source": [
    "#TASK 05\n",
    "def formatting(arr):\n",
    "    max_width = max(len(str(element)) for row in arr for element in row)\n",
    "    formatted_array = [[f\"{element:>{max_width}}\" for element in row] for row in arr]\n",
    "    formatted_string = '\\n'.join([' '.join(row) for row in formatted_array])\n",
    "    \n",
    "    return formatted_string\n",
    "\n",
    "arr = [\n",
    "    [10, 22, 3],\n",
    "    [45, 678, 9],\n",
    "    [1, 23, 456]\n",
    "]\n",
    "\n",
    "display = formatting(arr)\n",
    "print(display)\n"
   ]
  },
  {
   "cell_type": "code",
   "execution_count": null,
   "id": "d5f998de",
   "metadata": {},
   "outputs": [],
   "source": []
  },
  {
   "cell_type": "code",
   "execution_count": null,
   "id": "ce12ae07",
   "metadata": {},
   "outputs": [],
   "source": []
  },
  {
   "cell_type": "code",
   "execution_count": 7,
   "id": "9061e689",
   "metadata": {},
   "outputs": [
    {
     "name": "stdout",
     "output_type": "stream",
     "text": [
      "   0   1   2\n",
      "0 11  10   6\n",
      "1 19  55   9\n",
      "2  3 112 555\n"
     ]
    }
   ],
   "source": [
    "#TASK 06\n",
    "def dataFrames(data):\n",
    "    width = [max(len(str(data[i][j])) for i in range(len(data))) for j in range(len(data[0]))]\n",
    "    max_width = len(str(len(data)-1))\n",
    "    \n",
    "    format_df = []\n",
    "    for i in range(len(data)):\n",
    "        format_row = []\n",
    "        for j in range(len(data[i])):\n",
    "            format_element = f\"{data[i][j]:>{width[j]}}\"\n",
    "            format_row.append(format_element)\n",
    "        format_df.append(format_row)\n",
    "    \n",
    "    for index in range(len(format_df)):\n",
    "        format_df[index] = [f\"{index:>{max_width}}\"] + format_df[index]\n",
    "    \n",
    "    format_df = [[' ' * max_width] + [f\"{j:>{width[j]}}\" for j in range(len(data[0]))]] + format_df\n",
    "    format_string = '\\n'.join([' '.join(row) for row in format_df])\n",
    "    return format_string\n",
    "\n",
    "data = [\n",
    "    [11, 10, 6],\n",
    "    [19, 55, 9],\n",
    "    [3, 112, 555]\n",
    "]\n",
    "\n",
    "display = dataFrames(data)\n",
    "print(display)\n"
   ]
  },
  {
   "cell_type": "code",
   "execution_count": null,
   "id": "36de8173",
   "metadata": {},
   "outputs": [],
   "source": []
  },
  {
   "cell_type": "code",
   "execution_count": null,
   "id": "5e78c27f",
   "metadata": {},
   "outputs": [],
   "source": []
  },
  {
   "cell_type": "code",
   "execution_count": null,
   "id": "6aaf170b",
   "metadata": {},
   "outputs": [
    {
     "name": "stdout",
     "output_type": "stream",
     "text": [
      "* | * | *\n",
      "----------\n",
      "* | * | *\n",
      "----------\n",
      "* | * | *\n",
      "----------\n"
     ]
    }
   ],
   "source": [
    "#TASK 07\n",
    "\n",
    "board = [['*' for x in range(3)] for y in range(3)]\n",
    "\n",
    "def gameBoard():\n",
    "    for row in board:\n",
    "        print(\" | \".join(row))\n",
    "        print(\"--\" * 5)\n",
    "\n",
    "def playerWin(player):\n",
    "    # Winning conditions\n",
    "    for i in range(3):\n",
    "        if all(board[i][j] == player for j in range(3)) or all(board[j][i] == player for j in range(3)):\n",
    "            return True\n",
    "    if all(board[i][i] == player for i in range(3)) or all(board[i][2 - i] == player for i in range(3)):\n",
    "        return True\n",
    "    return False\n",
    "\n",
    "def playerDraw():\n",
    "    return all(board[i][j] != '*' for i in range(3) for j in range(3))\n",
    "\n",
    "current_player = 'X'\n",
    "\n",
    "while True:\n",
    "    gameBoard()\n",
    "    \n",
    "    while True:\n",
    "        try:\n",
    "            row, col = map(int, input(f\"Player {current_player}, enter your move (row and column): \").split())\n",
    "            if board[row][col] == '*':\n",
    "                break\n",
    "            else:\n",
    "                print(\"Invalid move. \")\n",
    "        except (ValueError, IndexError):\n",
    "            print(\"Invalid input. \")\n",
    "\n",
    "    board[row][col] = current_player\n",
    "\n",
    "    if playerWin(current_player):\n",
    "        gameBoard()\n",
    "        print(f\"Player {current_player} wins!\")\n",
    "        break\n",
    "\n",
    "    if playerDraw():\n",
    "        gameBoard()\n",
    "        print(\"It's a draw!\")\n",
    "        break\n",
    "\n",
    "    current_player = 'X' if current_player == 'O' else 'O'\n"
   ]
  },
  {
   "cell_type": "raw",
   "id": "d74c6d00",
   "metadata": {},
   "source": []
  },
  {
   "cell_type": "code",
   "execution_count": null,
   "id": "f6adccb2",
   "metadata": {},
   "outputs": [
    {
     "name": "stdout",
     "output_type": "stream",
     "text": [
      "Do you want to go first? (yes/no): no\n",
      "  |   |  \n",
      "---------\n",
      "  |   |  \n",
      "---------\n",
      "  |   |  \n",
      "---------\n"
     ]
    }
   ],
   "source": [
    "#TASK 08\n",
    "import random\n",
    "\n",
    "board = [[' ' for _ in range(3)] for _ in range(3)]\n",
    "\n",
    "def gameBoard():\n",
    "    for row in board:\n",
    "        print(\" | \".join(row))\n",
    "        print(\"-\" * 9)\n",
    "\n",
    "def gameWin(player):\n",
    "    # Check rows, columns, and diagonals for a win\n",
    "    for i in range(3):\n",
    "        if all(board[i][j] == player for j in range(3)) or all(board[j][i] == player for j in range(3)):\n",
    "            return True\n",
    "    if all(board[i][i] == player for i in range(3)) or all(board[i][2 - i] == player for i in range(3)):\n",
    "        return True\n",
    "    return False\n",
    "\n",
    "def gameDraw():\n",
    "    # Check if the game is a draw\n",
    "    return all(board[i][j] != ' ' for i in range(3) for j in range(3))\n",
    "\n",
    "def ComputerTurn():\n",
    "    # Randomly select an empty square for the computer's move\n",
    "    empty_squares = [(i, j) for i in range(3) for j in range(3) if board[i][j] == ' ']\n",
    "    return random.choice(empty_squares)\n",
    "\n",
    "def playerTurn():\n",
    "    while True:\n",
    "        try:\n",
    "            row, col = map(int, input(f\"Player {current_player}, enter your move (row and column): \").split())\n",
    "            if board[row][col] == ' ':\n",
    "                return row, col\n",
    "            else:\n",
    "                print(\"Invalid move. Square already occupied.\")\n",
    "        except (ValueError, IndexError):\n",
    "            print(\"Invalid input. Please enter row and column as two integers.\")\n",
    "\n",
    "# Let the player choose to go first or second\n",
    "first_player = input(\"Do you want to go first? (yes/no): \").lower()\n",
    "human_player = 'X'\n",
    "computer_player = 'O'\n",
    "\n",
    "if first_player == 'no':\n",
    "    human_player = 'O'\n",
    "    computer_player = 'X'\n",
    "\n",
    "current_player = human_player\n",
    "\n",
    "while True:\n",
    "    gameBoard()\n",
    "    \n",
    "    if current_player == human_player:\n",
    "        row, col = playerTurn()\n",
    "    else:\n",
    "        row, col = computer_move()\n",
    "\n",
    "    board[row][col] = current_player\n",
    "\n",
    "    if check_win(current_player):\n",
    "        gameBoard()\n",
    "        if current_player == human_player:\n",
    "            print(f\"Player {current_player} wins!\")\n",
    "        else:\n",
    "            print(\"Computer wins!\")\n",
    "        break\n",
    "\n",
    "    if gameDraw():\n",
    "        gameBoard()\n",
    "        print(\"It's a draw!\")\n",
    "        break\n",
    "\n",
    "    current_player = human_player if current_player == computer_player else computer_player\n"
   ]
  },
  {
   "cell_type": "code",
   "execution_count": null,
   "id": "b6a1b60b",
   "metadata": {},
   "outputs": [
    {
     "name": "stdout",
     "output_type": "stream",
     "text": [
      "Level 1\n",
      "  |   |   |  \n",
      "---------\n",
      "  |   |   |  \n",
      "---------\n",
      "  |   |   |  \n",
      "---------\n",
      "  |   |   |  \n",
      "\n",
      "Level 2\n",
      "  |   |   |  \n",
      "---------\n",
      "  |   |   |  \n",
      "---------\n",
      "  |   |   |  \n",
      "---------\n",
      "  |   |   |  \n",
      "\n",
      "Level 3\n",
      "  |   |   |  \n",
      "---------\n",
      "  |   |   |  \n",
      "---------\n",
      "  |   |   |  \n",
      "---------\n",
      "  |   |   |  \n",
      "\n",
      "Level 4\n",
      "  |   |   |  \n",
      "---------\n",
      "  |   |   |  \n",
      "---------\n",
      "  |   |   |  \n",
      "---------\n",
      "  |   |   |  \n",
      "\n",
      "Player X, enter your move (level, row, and column): 1 2 3\n",
      "Level 1\n",
      "  |   |   |  \n",
      "---------\n",
      "  |   | X |  \n",
      "---------\n",
      "  |   |   |  \n",
      "---------\n",
      "  |   |   |  \n",
      "\n",
      "Level 2\n",
      "  |   |   |  \n",
      "---------\n",
      "  |   |   |  \n",
      "---------\n",
      "  |   |   |  \n",
      "---------\n",
      "  |   |   |  \n",
      "\n",
      "Level 3\n",
      "  |   |   |  \n",
      "---------\n",
      "  |   |   |  \n",
      "---------\n",
      "  |   |   |  \n",
      "---------\n",
      "  |   |   |  \n",
      "\n",
      "Level 4\n",
      "  |   |   |  \n",
      "---------\n",
      "  |   |   |  \n",
      "---------\n",
      "  |   |   |  \n",
      "---------\n",
      "  |   |   |  \n",
      "\n"
     ]
    }
   ],
   "source": [
    "#TASK 09\n",
    "def gameBoard(board):\n",
    "    for i in range(4):\n",
    "        print(f\"Level {i + 1}\")\n",
    "        for j in range(4):\n",
    "            print(\" | \".join(board[i][j]))\n",
    "            if j != 3:\n",
    "                print(\"-\" * 9)\n",
    "        print()\n",
    "\n",
    "def gameWin(board, player):\n",
    "    for i in range(4):\n",
    "        \n",
    "        for j in range(4):\n",
    "            if all(board[i][j][k] == player for k in range(4)) or all(board[i][k][j] == player for k in range(4)):\n",
    "                return True\n",
    "\n",
    "        if all(board[i][j][j] == player for j in range(4)) or all(board[i][j][3 - j] == player for j in range(4)):\n",
    "            return True\n",
    "\n",
    "        if all(board[k][j][j] == player for k in range(4)) or all(board[k][j][3 - j] == player for k in range(4)):\n",
    "            return True\n",
    "\n",
    "    for j in range(4):\n",
    "        for k in range(4):\n",
    "            if all(board[i][j][k] == player for i in range(4)):\n",
    "                return True\n",
    "\n",
    "  \n",
    "    if all(board[i][j][j] == player for i in range(4)) or all(board[i][j][3 - j] == player for i in range(4)):\n",
    "        return True\n",
    "\n",
    "    return False\n",
    "\n",
    "def gameDraw(board):\n",
    "    return all(board[i][j][k] != ' ' for i in range(4) for j in range(4) for k in range(4))\n",
    "\n",
    "board = [[[' ' for _ in range(4)] for _ in range(4)] for _ in range(4)]\n",
    "\n",
    "current_player = 'X'\n",
    "\n",
    "while True:\n",
    "    gameBoard(board)\n",
    "\n",
    "    while True:\n",
    "        try:\n",
    "            level, row, col = map(int, input(f\"Player {current_player}, enter your move (level, row, and column): \").split())\n",
    "            if board[level - 1][row - 1][col - 1] == ' ':\n",
    "                break\n",
    "            else:\n",
    "                print(\"Invalid move. \")\n",
    "        except (ValueError, IndexError):\n",
    "            print(\"Invalid input. .\")\n",
    "\n",
    "    board[level - 1][row - 1][col - 1] = current_player\n",
    "\n",
    "    if gameWin(board, current_player):\n",
    "        gameBoard(board)\n",
    "        print(f\"Player {current_player} wins!\")\n",
    "        break\n",
    "\n",
    "    if gameDraw(board):\n",
    "        gameBoard(board)\n",
    "        print(\"Game Drawn!\")\n",
    "        break\n",
    "\n",
    "    current_player = 'O' if current_player == 'X' else 'X'\n"
   ]
  },
  {
   "cell_type": "code",
   "execution_count": 4,
   "id": "8e5a96a7",
   "metadata": {},
   "outputs": [
    {
     "name": "stdout",
     "output_type": "stream",
     "text": [
      "Array 3:\n",
      "[[0 2 1 3]\n",
      " [4 6 5 7]] \n",
      "\n",
      "Array 4:\n",
      "[[0 2 1 3]] \n",
      "\n",
      "Array 5:\n",
      "[[4 6 5 7]] \n",
      "\n",
      "Array 6:\n",
      "[[0 1 2 3 4 5 6 7]] \n",
      "\n",
      "Array 7:\n",
      "[[ 0  1  2  3  4  5  6  7]\n",
      " [ 0 10 20 30 40 50 60 70]]\n"
     ]
    }
   ],
   "source": [
    "#TASK 10\n",
    "import numpy as np\n",
    "\n",
    "#Part (a)\n",
    "arr1 = np.array([[0, 2], [4, 6]])\n",
    "arr2 = np.array([[1, 3], [5, 7]])\n",
    "\n",
    "arr3 = np.hstack((arr1, arr2))\n",
    "print(\"Array 3:\")\n",
    "print(arr3, \"\\n\")\n",
    "\n",
    "\n",
    "#Part (b)\n",
    "array4, array5 = np.vsplit(array3, 2)\n",
    "\n",
    "print(\"Array 4:\")\n",
    "print(array4, \"\\n\")\n",
    "\n",
    "print(\"Array 5:\")\n",
    "print(array5, \"\\n\")\n",
    "\n",
    "\n",
    "\n",
    "#Part (c)\n",
    "sorted_array4 = np.sort(array4)\n",
    "sorted_array5 = np.sort(array5)\n",
    "\n",
    "array6 = np.hstack((sorted_array4, sorted_array5))\n",
    "\n",
    "print(\"Array 6:\")\n",
    "print(array6, \"\\n\")\n",
    "\n",
    "\n",
    "\n",
    "#Part (d)\n",
    "array6_times_10 = array6 * 10\n",
    "\n",
    "array7 = np.vstack((array6, array6_times_10))\n",
    "\n",
    "print(\"Array 7:\")\n",
    "print(array7)"
   ]
  },
  {
   "cell_type": "code",
   "execution_count": 6,
   "id": "1c53a47c",
   "metadata": {},
   "outputs": [
    {
     "name": "stdout",
     "output_type": "stream",
     "text": [
      "Votes for Candidate 1: 0\n",
      "Votes for Candidate 2: 30\n"
     ]
    }
   ],
   "source": [
    "#TASK 11\n",
    "import numpy as np\n",
    "\n",
    "arr1 = np.random.randint(2, size=99)\n",
    "arr2 = np.bincount(arr1)\n",
    "print(f\"Votes for Candidate 1: {arr1[0]}\")\n",
    "print(f\"Votes for Candidate 2: {arr2[1]}\")"
   ]
  },
  {
   "cell_type": "code",
   "execution_count": 13,
   "id": "8ce73f8c",
   "metadata": {},
   "outputs": [
    {
     "name": "stdout",
     "output_type": "stream",
     "text": [
      "Array 1 -> Median: 4.5, Mode: 0 (Count: 1)\n",
      "Array 2 -> Median: 5.5, Mode: [2 3] (Count: [1 1])\n",
      "Array 3 -> Median: 4.0, Mode: 1 (Count: 2)\n"
     ]
    },
    {
     "name": "stderr",
     "output_type": "stream",
     "text": [
      "C:\\Users\\Hp\\AppData\\Local\\Temp\\ipykernel_14996\\1918532654.py:9: FutureWarning: Unlike other reduction functions (e.g. `skew`, `kurtosis`), the default behavior of `mode` typically preserves the axis it acts along. In SciPy 1.11.0, this behavior will change: the default value of `keepdims` will become False, the `axis` over which the statistic is taken will be eliminated, and the value None will no longer be accepted. Set `keepdims` to True or False to avoid this warning.\n",
      "  return stats.mode(arr)\n"
     ]
    }
   ],
   "source": [
    "#TASK 12\n",
    "import numpy as np\n",
    "from scipy import stats\n",
    "\n",
    "def median(arr):\n",
    "    return np.median(arr)\n",
    "\n",
    "def mode(arr):\n",
    "    return stats.mode(arr)\n",
    "\n",
    "\n",
    "arr1 = np.array([9,8,7,6,5,4,3,2,1,0])\n",
    "arr2 = np.array([[2, 3], [5, 6], [7, 8]])\n",
    "arr3 = np.array([2,2,6,6,4,4,1,1,7,7])\n",
    "\n",
    "median1 = median(arr1)\n",
    "mode1 = mode(arr1)\n",
    "median2 = median(arr2)\n",
    "mode2 = mode(arr2)\n",
    "median3 = median(arr3)\n",
    "mode3 = mode(arr3)\n",
    "\n",
    "print(f\"Array 1 -> Median: {median1}, Mode: {mode1.mode[0]} (Count: {mode1.count[0]})\")\n",
    "print(f\"Array 2 -> Median: {median2}, Mode: {mode2.mode[0]} (Count: {mode2.count[0]})\")\n",
    "print(f\"Array 3 -> Median: {median3}, Mode: {mode3.mode[0]} (Count: {mode3.count[0]})\")"
   ]
  },
  {
   "cell_type": "code",
   "execution_count": 16,
   "id": "916d39b9",
   "metadata": {},
   "outputs": [
    {
     "name": "stdout",
     "output_type": "stream",
     "text": [
      "Rows median: [2. 7. 6.]\n",
      "Rows mode: [1] (Count: [1])\n",
      "Columns median: [7. 2. 6.]\n",
      "COulmns mode: [3 0 1] (Count: [1 1 1])\n"
     ]
    },
    {
     "name": "stderr",
     "output_type": "stream",
     "text": [
      "C:\\Users\\Hp\\AppData\\Local\\Temp\\ipykernel_14996\\1164020985.py:9: FutureWarning: Unlike other reduction functions (e.g. `skew`, `kurtosis`), the default behavior of `mode` typically preserves the axis it acts along. In SciPy 1.11.0, this behavior will change: the default value of `keepdims` will become False, the `axis` over which the statistic is taken will be eliminated, and the value None will no longer be accepted. Set `keepdims` to True or False to avoid this warning.\n",
      "  return stats.mode(arr, axis=axis)\n"
     ]
    }
   ],
   "source": [
    "#TASK 13\n",
    "import numpy as np\n",
    "from scipy import stats\n",
    "\n",
    "def median(arr, axis=None):\n",
    "    return np.median(arr, axis=axis)\n",
    "\n",
    "def mode(arr, axis=None):\n",
    "    return stats.mode(arr, axis=axis)\n",
    "\n",
    "\n",
    "array = np.array([[3, 2, 1], [7, 5, 9], [8, 0, 6]])\n",
    "\n",
    "median_rows = median(array, axis=1)\n",
    "mode_rows = mode(array, axis=1)\n",
    "\n",
    "median_cols = median(array, axis=0)\n",
    "mode_cols = mode(array, axis=0)\n",
    "\n",
    "print(f\"Rows median: {median_rows}\")\n",
    "print(f\"Rows mode: {mode_rows.mode[0]} (Count: {mode_rows.count[0]})\")\n",
    "\n",
    "print(f\"Columns median: {median_cols}\")\n",
    "print(f\"COulmns mode: {mode_cols.mode[0]} (Count: {mode_cols.count[0]})\")"
   ]
  },
  {
   "cell_type": "code",
   "execution_count": null,
   "id": "f0b0eee1",
   "metadata": {},
   "outputs": [
    {
     "name": "stdout",
     "output_type": "stream",
     "text": [
      " 1  0  0  0  0  0  0  0\n",
      " 0  0  0  0  0  0  0  0\n",
      " 0  0  0  0  0  0  0  0\n",
      " 0  0  0  0  0  0  0  0\n",
      " 0  0  0  0  0  0  0  0\n",
      " 0  0  0  0  0  0  0  0\n",
      " 0  0  0  0  0  0  0  0\n",
      " 0  0  0  0  0  0  0  0\n"
     ]
    }
   ],
   "source": [
    "#TASK 14\n",
    "#Part ( a )\n",
    "def knightsTourGame():\n",
    "    board = [[0 for _ in range(8)] for _ in range(8)]\n",
    "\n",
    "    current_number = 1\n",
    "    current_row, current_column = 0, 0\n",
    "\n",
    "    while current_number <= 64:\n",
    "        board[current_row][current_column] = current_number\n",
    "\n",
    "        gameBoard(board)\n",
    "\n",
    "        current_number += 1\n",
    "\n",
    "        next_row = int(input(\"Enter the next row (0-7): \"))\n",
    "        next_column = int(input(\"Enter the next column (0-7): \"))\n",
    "\n",
    "        if not (0 <= next_row < 8) or not (0 <= next_column < 8):\n",
    "            print(\"Invalid input. \")\n",
    "            continue\n",
    "\n",
    "        if board[next_row][next_column] != 0:\n",
    "            print(\"Invalid move.\")\n",
    "            continue\n",
    "\n",
    "        current_row, current_column = next_row, next_column\n",
    "\n",
    "def gameBoard(board):\n",
    "    for row in board:\n",
    "        print(\" \".join(str(cell).rjust(2) for cell in row))\n",
    "\n",
    "knightsTourGame()"
   ]
  },
  {
   "cell_type": "code",
   "execution_count": 1,
   "id": "470b1aeb",
   "metadata": {},
   "outputs": [
    {
     "name": "stdout",
     "output_type": "stream",
     "text": [
      "[[ 1 10 23 64  7  4 13 18]\n",
      " [24 41  8  3 12 17  6 15]\n",
      " [ 9  2 11 22  5 14 19 32]\n",
      " [ 0 25 40 35 20 31 16  0]\n",
      " [ 0 36 21  0 39  0 33 30]\n",
      " [26  0 38  0 34 29  0  0]\n",
      " [37  0  0 28  0  0  0  0]\n",
      " [ 0 27  0  0  0  0  0  0]]\n"
     ]
    }
   ],
   "source": [
    "#Part ( b )\n",
    "import numpy as np\n",
    "\n",
    "board = np.zeros((8, 8), dtype=int)\n",
    "\n",
    "horizontal = [2, 1, -1, -2, -2, -1, 1, 2]\n",
    "vertical = [-1, -2, -2, -1, 1, 2, 2, 1]\n",
    "\n",
    "current_row, current_column = 0, 0\n",
    "move_count = 1\n",
    "\n",
    "for movement in range(64):\n",
    "    board[current_row][current_column] = move_count\n",
    "    move_count += 1\n",
    "\n",
    "    for index in range(8):\n",
    "        new_row = current_row + vertical[index]\n",
    "        new_column = current_column + horizontal[index]\n",
    "\n",
    "        if (0 <= new_row < 8) and (0 <= new_column < 8) and (board[new_row][new_column] == 0):\n",
    "            current_row, current_column = new_row, new_column\n",
    "            break\n",
    "\n",
    "print(board)"
   ]
  },
  {
   "cell_type": "code",
   "execution_count": 3,
   "id": "7017cb11",
   "metadata": {},
   "outputs": [
    {
     "name": "stdout",
     "output_type": "stream",
     "text": [
      "[[ 1 32  3 18 29 34 13 16]\n",
      " [ 4 19 30 33 14 17 28 35]\n",
      " [31  2 55 58 53 44 15 12]\n",
      " [20  5 52 43 56 27 36 45]\n",
      " [51 42 57 54 59  0 11 26]\n",
      " [ 6 21 64  0  0  0 46 37]\n",
      " [41 50 23  8 39 48 25 10]\n",
      " [22  7 40 49 24  9 38 47]]\n"
     ]
    }
   ],
   "source": [
    "#Part ( c )\n",
    "import numpy as np\n",
    "\n",
    "arr = np.array([\n",
    "    [2, 3, 4, 4, 4, 4, 3, 2],\n",
    "    [3, 4, 6, 6, 6, 6, 4, 3],\n",
    "    [4, 6, 8, 8, 8, 8, 6, 4],\n",
    "    [4, 6, 8, 8, 8, 8, 6, 4],\n",
    "    [4, 6, 8, 8, 8, 8, 6, 4],\n",
    "    [4, 6, 8, 8, 8, 8, 6, 4],\n",
    "    [3, 4, 6, 6, 6, 6, 4, 3],\n",
    "    [2, 3, 4, 4, 4, 4, 3, 2]\n",
    "])\n",
    "\n",
    "board = np.zeros((8, 8), dtype=int)\n",
    "\n",
    "horizontal = [2, 1, -1, -2, -2, -1, 1, 2]\n",
    "vertical = [-1, -2, -2, -1, 1, 2, 2, 1]\n",
    "\n",
    "current_row, current_column = 0, 0\n",
    "move_count = 1\n",
    "\n",
    "for movement in range(64):\n",
    "    board[current_row][current_column] = move_count\n",
    "    move_count += 1\n",
    "    arr -= 1\n",
    "    min_access = float('inf')\n",
    "    for i in range(8):\n",
    "        new_row = current_row + vertical[i]\n",
    "        new_column = current_column + horizontal[i]\n",
    "\n",
    "        if (0 <= new_row < 8) and (0 <= new_column < 8) and (board[new_row][new_column] == 0) and (arr[new_row][new_column] < min_access):\n",
    "            min_access = arr[new_row][new_column]\n",
    "            next_row, next_column = new_row, new_column\n",
    "\n",
    "    current_row, current_column = next_row, next_column\n",
    "\n",
    "print(board)"
   ]
  },
  {
   "cell_type": "code",
   "execution_count": null,
   "id": "545c70fd",
   "metadata": {},
   "outputs": [],
   "source": []
  },
  {
   "cell_type": "code",
   "execution_count": null,
   "id": "ce4a58d7",
   "metadata": {},
   "outputs": [],
   "source": []
  },
  {
   "cell_type": "code",
   "execution_count": null,
   "id": "0ed100a1",
   "metadata": {},
   "outputs": [],
   "source": []
  },
  {
   "cell_type": "code",
   "execution_count": null,
   "id": "404ff7dd",
   "metadata": {},
   "outputs": [],
   "source": []
  },
  {
   "cell_type": "markdown",
   "id": "d95d44a9",
   "metadata": {},
   "source": []
  },
  {
   "cell_type": "code",
   "execution_count": null,
   "id": "35a97285",
   "metadata": {},
   "outputs": [],
   "source": []
  },
  {
   "cell_type": "code",
   "execution_count": null,
   "id": "a6dbbadf",
   "metadata": {},
   "outputs": [],
   "source": []
  },
  {
   "cell_type": "code",
   "execution_count": null,
   "id": "8286a7d6",
   "metadata": {},
   "outputs": [],
   "source": []
  },
  {
   "cell_type": "code",
   "execution_count": null,
   "id": "05345155",
   "metadata": {},
   "outputs": [],
   "source": []
  },
  {
   "cell_type": "code",
   "execution_count": null,
   "id": "cf4c2bf7",
   "metadata": {},
   "outputs": [],
   "source": []
  },
  {
   "cell_type": "code",
   "execution_count": null,
   "id": "5d0f2705",
   "metadata": {},
   "outputs": [],
   "source": []
  },
  {
   "cell_type": "code",
   "execution_count": null,
   "id": "277b869b",
   "metadata": {},
   "outputs": [],
   "source": []
  },
  {
   "cell_type": "code",
   "execution_count": null,
   "id": "de60d07e",
   "metadata": {},
   "outputs": [],
   "source": []
  },
  {
   "cell_type": "code",
   "execution_count": null,
   "id": "948f8614",
   "metadata": {},
   "outputs": [],
   "source": []
  },
  {
   "cell_type": "code",
   "execution_count": null,
   "id": "62780822",
   "metadata": {},
   "outputs": [],
   "source": []
  },
  {
   "cell_type": "code",
   "execution_count": null,
   "id": "1f609ef6",
   "metadata": {},
   "outputs": [],
   "source": []
  },
  {
   "cell_type": "code",
   "execution_count": null,
   "id": "3e7ea607",
   "metadata": {},
   "outputs": [],
   "source": []
  },
  {
   "cell_type": "code",
   "execution_count": null,
   "id": "92b0f330",
   "metadata": {},
   "outputs": [],
   "source": []
  },
  {
   "cell_type": "code",
   "execution_count": null,
   "id": "b987288c",
   "metadata": {},
   "outputs": [],
   "source": []
  },
  {
   "cell_type": "code",
   "execution_count": null,
   "id": "51da7888",
   "metadata": {},
   "outputs": [],
   "source": []
  },
  {
   "cell_type": "code",
   "execution_count": null,
   "id": "ef7bceaa",
   "metadata": {},
   "outputs": [],
   "source": []
  },
  {
   "cell_type": "code",
   "execution_count": null,
   "id": "3fbebc54",
   "metadata": {},
   "outputs": [],
   "source": []
  },
  {
   "cell_type": "code",
   "execution_count": null,
   "id": "6ae384e0",
   "metadata": {},
   "outputs": [],
   "source": []
  },
  {
   "cell_type": "code",
   "execution_count": null,
   "id": "d85fc352",
   "metadata": {},
   "outputs": [],
   "source": []
  },
  {
   "cell_type": "code",
   "execution_count": null,
   "id": "6e75cc4c",
   "metadata": {},
   "outputs": [],
   "source": []
  },
  {
   "cell_type": "code",
   "execution_count": null,
   "id": "e4b5293b",
   "metadata": {},
   "outputs": [],
   "source": []
  },
  {
   "cell_type": "code",
   "execution_count": null,
   "id": "643e8e3e",
   "metadata": {},
   "outputs": [],
   "source": []
  },
  {
   "cell_type": "code",
   "execution_count": null,
   "id": "74e3182a",
   "metadata": {},
   "outputs": [],
   "source": []
  },
  {
   "cell_type": "code",
   "execution_count": null,
   "id": "96163fbe",
   "metadata": {},
   "outputs": [],
   "source": []
  },
  {
   "cell_type": "code",
   "execution_count": null,
   "id": "874e6332",
   "metadata": {},
   "outputs": [],
   "source": []
  },
  {
   "cell_type": "code",
   "execution_count": null,
   "id": "e44e37af",
   "metadata": {},
   "outputs": [],
   "source": []
  },
  {
   "cell_type": "code",
   "execution_count": null,
   "id": "9240841c",
   "metadata": {},
   "outputs": [],
   "source": []
  },
  {
   "cell_type": "code",
   "execution_count": null,
   "id": "f707bcfb",
   "metadata": {},
   "outputs": [],
   "source": []
  },
  {
   "cell_type": "code",
   "execution_count": null,
   "id": "4d8264a9",
   "metadata": {},
   "outputs": [],
   "source": []
  },
  {
   "cell_type": "code",
   "execution_count": null,
   "id": "ff3014a1",
   "metadata": {},
   "outputs": [],
   "source": []
  },
  {
   "cell_type": "code",
   "execution_count": null,
   "id": "71d12031",
   "metadata": {},
   "outputs": [],
   "source": []
  },
  {
   "cell_type": "code",
   "execution_count": null,
   "id": "48cc9c34",
   "metadata": {},
   "outputs": [],
   "source": []
  },
  {
   "cell_type": "code",
   "execution_count": null,
   "id": "eb8e58f8",
   "metadata": {},
   "outputs": [],
   "source": []
  },
  {
   "cell_type": "code",
   "execution_count": null,
   "id": "c29414b5",
   "metadata": {},
   "outputs": [],
   "source": []
  },
  {
   "cell_type": "code",
   "execution_count": null,
   "id": "2c022151",
   "metadata": {},
   "outputs": [],
   "source": []
  },
  {
   "cell_type": "code",
   "execution_count": null,
   "id": "712cdc10",
   "metadata": {},
   "outputs": [],
   "source": []
  },
  {
   "cell_type": "code",
   "execution_count": null,
   "id": "fbacb9ac",
   "metadata": {},
   "outputs": [],
   "source": []
  },
  {
   "cell_type": "code",
   "execution_count": null,
   "id": "a9ffc521",
   "metadata": {},
   "outputs": [],
   "source": []
  },
  {
   "cell_type": "code",
   "execution_count": null,
   "id": "3237ae9a",
   "metadata": {},
   "outputs": [],
   "source": []
  },
  {
   "cell_type": "code",
   "execution_count": null,
   "id": "9903c0a4",
   "metadata": {},
   "outputs": [],
   "source": []
  },
  {
   "cell_type": "code",
   "execution_count": null,
   "id": "9fd74aab",
   "metadata": {},
   "outputs": [],
   "source": []
  },
  {
   "cell_type": "code",
   "execution_count": null,
   "id": "6317a8d2",
   "metadata": {},
   "outputs": [],
   "source": []
  },
  {
   "cell_type": "code",
   "execution_count": null,
   "id": "4852112c",
   "metadata": {},
   "outputs": [],
   "source": []
  },
  {
   "cell_type": "code",
   "execution_count": null,
   "id": "660f3442",
   "metadata": {},
   "outputs": [],
   "source": []
  },
  {
   "cell_type": "code",
   "execution_count": null,
   "id": "322721ff",
   "metadata": {},
   "outputs": [],
   "source": []
  },
  {
   "cell_type": "code",
   "execution_count": null,
   "id": "4a0fd872",
   "metadata": {},
   "outputs": [],
   "source": []
  },
  {
   "cell_type": "code",
   "execution_count": null,
   "id": "8adfb00e",
   "metadata": {},
   "outputs": [],
   "source": []
  },
  {
   "cell_type": "code",
   "execution_count": null,
   "id": "4a60f667",
   "metadata": {},
   "outputs": [],
   "source": []
  },
  {
   "cell_type": "code",
   "execution_count": null,
   "id": "edd3c721",
   "metadata": {},
   "outputs": [],
   "source": []
  },
  {
   "cell_type": "code",
   "execution_count": null,
   "id": "288b1b78",
   "metadata": {},
   "outputs": [],
   "source": []
  },
  {
   "cell_type": "code",
   "execution_count": null,
   "id": "fa93999a",
   "metadata": {},
   "outputs": [],
   "source": []
  },
  {
   "cell_type": "code",
   "execution_count": null,
   "id": "a62578e8",
   "metadata": {},
   "outputs": [],
   "source": []
  },
  {
   "cell_type": "code",
   "execution_count": null,
   "id": "05cae36d",
   "metadata": {},
   "outputs": [],
   "source": []
  },
  {
   "cell_type": "code",
   "execution_count": null,
   "id": "64234ce1",
   "metadata": {},
   "outputs": [],
   "source": []
  },
  {
   "cell_type": "code",
   "execution_count": null,
   "id": "69e450ab",
   "metadata": {},
   "outputs": [],
   "source": []
  },
  {
   "cell_type": "code",
   "execution_count": null,
   "id": "2b051261",
   "metadata": {},
   "outputs": [],
   "source": []
  },
  {
   "cell_type": "code",
   "execution_count": null,
   "id": "178f5a5c",
   "metadata": {},
   "outputs": [],
   "source": []
  },
  {
   "cell_type": "code",
   "execution_count": null,
   "id": "45a64b9e",
   "metadata": {},
   "outputs": [],
   "source": [
    "\n"
   ]
  },
  {
   "cell_type": "code",
   "execution_count": null,
   "id": "86882d75",
   "metadata": {},
   "outputs": [],
   "source": []
  },
  {
   "cell_type": "code",
   "execution_count": null,
   "id": "6848f0f0",
   "metadata": {},
   "outputs": [],
   "source": []
  },
  {
   "cell_type": "code",
   "execution_count": null,
   "id": "18bf324c",
   "metadata": {},
   "outputs": [],
   "source": []
  },
  {
   "cell_type": "code",
   "execution_count": null,
   "id": "bb4519d4",
   "metadata": {},
   "outputs": [],
   "source": []
  },
  {
   "cell_type": "code",
   "execution_count": null,
   "id": "b26d62a0",
   "metadata": {},
   "outputs": [],
   "source": []
  },
  {
   "cell_type": "code",
   "execution_count": null,
   "id": "75dfdfe3",
   "metadata": {},
   "outputs": [],
   "source": []
  },
  {
   "cell_type": "code",
   "execution_count": null,
   "id": "dea76bf0",
   "metadata": {},
   "outputs": [],
   "source": []
  },
  {
   "cell_type": "code",
   "execution_count": null,
   "id": "46852e4e",
   "metadata": {},
   "outputs": [],
   "source": []
  },
  {
   "cell_type": "code",
   "execution_count": null,
   "id": "5ede08bf",
   "metadata": {},
   "outputs": [],
   "source": []
  },
  {
   "cell_type": "code",
   "execution_count": null,
   "id": "e25382cd",
   "metadata": {},
   "outputs": [],
   "source": []
  },
  {
   "cell_type": "code",
   "execution_count": null,
   "id": "d9e212df",
   "metadata": {},
   "outputs": [],
   "source": []
  },
  {
   "cell_type": "code",
   "execution_count": null,
   "id": "f6cf103d",
   "metadata": {},
   "outputs": [],
   "source": []
  },
  {
   "cell_type": "code",
   "execution_count": null,
   "id": "9e0131c0",
   "metadata": {},
   "outputs": [],
   "source": []
  },
  {
   "cell_type": "code",
   "execution_count": null,
   "id": "9aa8a656",
   "metadata": {},
   "outputs": [],
   "source": []
  },
  {
   "cell_type": "code",
   "execution_count": null,
   "id": "b6d0cd95",
   "metadata": {},
   "outputs": [],
   "source": []
  },
  {
   "cell_type": "code",
   "execution_count": null,
   "id": "126a4006",
   "metadata": {},
   "outputs": [],
   "source": []
  },
  {
   "cell_type": "code",
   "execution_count": null,
   "id": "565da2af",
   "metadata": {},
   "outputs": [],
   "source": []
  },
  {
   "cell_type": "code",
   "execution_count": null,
   "id": "39874312",
   "metadata": {},
   "outputs": [],
   "source": []
  },
  {
   "cell_type": "code",
   "execution_count": null,
   "id": "7fa82648",
   "metadata": {},
   "outputs": [],
   "source": []
  },
  {
   "cell_type": "code",
   "execution_count": null,
   "id": "0aaab069",
   "metadata": {},
   "outputs": [],
   "source": []
  },
  {
   "cell_type": "code",
   "execution_count": null,
   "id": "28856d25",
   "metadata": {},
   "outputs": [],
   "source": []
  },
  {
   "cell_type": "code",
   "execution_count": null,
   "id": "146f93dd",
   "metadata": {},
   "outputs": [],
   "source": []
  },
  {
   "cell_type": "code",
   "execution_count": null,
   "id": "db4bf371",
   "metadata": {},
   "outputs": [],
   "source": []
  },
  {
   "cell_type": "code",
   "execution_count": null,
   "id": "b61a8c15",
   "metadata": {},
   "outputs": [],
   "source": []
  },
  {
   "cell_type": "code",
   "execution_count": null,
   "id": "e1a24dc7",
   "metadata": {},
   "outputs": [],
   "source": []
  },
  {
   "cell_type": "code",
   "execution_count": null,
   "id": "fd310523",
   "metadata": {},
   "outputs": [],
   "source": []
  },
  {
   "cell_type": "code",
   "execution_count": null,
   "id": "1afaa492",
   "metadata": {},
   "outputs": [],
   "source": []
  },
  {
   "cell_type": "code",
   "execution_count": null,
   "id": "14dbfbe1",
   "metadata": {},
   "outputs": [],
   "source": []
  },
  {
   "cell_type": "code",
   "execution_count": null,
   "id": "5eb7bd06",
   "metadata": {},
   "outputs": [],
   "source": []
  },
  {
   "cell_type": "code",
   "execution_count": null,
   "id": "292dbd46",
   "metadata": {},
   "outputs": [],
   "source": []
  }
 ],
 "metadata": {
  "kernelspec": {
   "display_name": "Python 3 (ipykernel)",
   "language": "python",
   "name": "python3"
  },
  "language_info": {
   "codemirror_mode": {
    "name": "ipython",
    "version": 3
   },
   "file_extension": ".py",
   "mimetype": "text/x-python",
   "name": "python",
   "nbconvert_exporter": "python",
   "pygments_lexer": "ipython3",
   "version": "3.11.4"
  }
 },
 "nbformat": 4,
 "nbformat_minor": 5
}
